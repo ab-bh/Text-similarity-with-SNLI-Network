{
 "cells": [
  {
   "cell_type": "markdown",
   "metadata": {},
   "source": [
    "## Load Dependencies"
   ]
  },
  {
   "cell_type": "code",
   "execution_count": 2,
   "metadata": {
    "collapsed": false,
    "scrolled": true
   },
   "outputs": [
    {
     "name": "stderr",
     "output_type": "stream",
     "text": [
      "Using TensorFlow backend.\n"
     ]
    }
   ],
   "source": [
    "import warnings\n",
    "warnings.filterwarnings(\"ignore\")\n",
    "import pandas as pd \n",
    "import numpy as np\n",
    "\n",
    "from keras.preprocessing.text import Tokenizer\n",
    "from keras.preprocessing.sequence import pad_sequences"
   ]
  },
  {
   "cell_type": "markdown",
   "metadata": {},
   "source": [
    "### Load Dataset"
   ]
  },
  {
   "cell_type": "code",
   "execution_count": 3,
   "metadata": {
    "collapsed": false
   },
   "outputs": [],
   "source": [
    "q1 = pd.read_csv(\"/home/abhishek/Desktop/Quora-Duplicate-Question-Pairs/data/train.csv\")\n",
    "q2 = pd.read_csv(\"/home/abhishek/Desktop/Quora-Duplicate-Question-Pairs/data/test.csv\")"
   ]
  },
  {
   "cell_type": "code",
   "execution_count": 4,
   "metadata": {
    "collapsed": true
   },
   "outputs": [],
   "source": [
    "# prepare question dataframes\n",
    "\n",
    "ques1 = q1.question1\n",
    "ques2 = q1.question2\n",
    "is_dup = q1.is_duplicate\n",
    "ques = ques1 + ques2\n",
    "ques2[201841] = '';ques2[105780] = '';ques[105780] = '';ques[201841] = ''"
   ]
  },
  {
   "cell_type": "code",
   "execution_count": 16,
   "metadata": {
    "collapsed": true
   },
   "outputs": [],
   "source": [
    "# fit the text file to tokenize data\n",
    "# reference: http://www.orbifold.net/default/2017/01/10/embedding-and-tokenizer-in-keras/\n",
    "\n",
    "tokenizer = Tokenizer(num_words=200000)\n",
    "tokenizer.fit_on_texts(ques)\n",
    "q1_word_sequences = tokenizer.texts_to_sequences(ques1)\n",
    "q2_word_sequences = tokenizer.texts_to_sequences(ques2)"
   ]
  },
  {
   "cell_type": "markdown",
   "metadata": {},
   "source": [
    "### Load GloVe embeddings"
   ]
  },
  {
   "cell_type": "code",
   "execution_count": 7,
   "metadata": {
    "collapsed": false,
    "scrolled": true
   },
   "outputs": [
    {
     "name": "stdout",
     "output_type": "stream",
     "text": [
      "processing GloVe\n"
     ]
    }
   ],
   "source": [
    "def get_embeddings():\n",
    "    GloVe = open(\"glove.6B.200d.txt\", \"r\")\n",
    "    embeddings = {}\n",
    "    print \"processing GloVe\"\n",
    "    for line in GloVe.readlines():\n",
    "        val = line.split(' ')\n",
    "        word = val[0]\n",
    "        embeddings[word] = np.asarray(val[1:], dtype='float32')\n",
    "\n",
    "    np.save('embeddings.npy', embeddings) \n",
    "    GloVe.close()\n",
    "    return embeddings\n",
    "    \n",
    "embeddings = get_embeddings()"
   ]
  },
  {
   "cell_type": "code",
   "execution_count": 24,
   "metadata": {
    "collapsed": true
   },
   "outputs": [],
   "source": [
    "embedding_dim = 200\n",
    "word_index = tokenizer.word_index"
   ]
  },
  {
   "cell_type": "code",
   "execution_count": 33,
   "metadata": {
    "collapsed": false
   },
   "outputs": [
    {
     "name": "stdout",
     "output_type": "stream",
     "text": [
      "Null word embeddings: 36170\n"
     ]
    }
   ],
   "source": [
    "# reference: http://www.orbifold.net/default/2017/01/10/embedding-and-tokenizer-in-keras/\n",
    "\n",
    "embedding_mat = np.zeros((len(word_index)+1, embedding_dim))\n",
    "for word, i in word_index.items():\n",
    "    embedding_vector = embeddings.get(word)\n",
    "    if embedding_vector is not None:\n",
    "        embedding_mat[i] = embedding_vector[:embedding_dim]\n",
    "\n",
    "print('Null word embeddings: %d' % np.sum(np.sum(embedding_mat, axis=1) == 0))"
   ]
  },
  {
   "cell_type": "markdown",
   "metadata": {},
   "source": [
    "### create train question data"
   ]
  },
  {
   "cell_type": "code",
   "execution_count": 34,
   "metadata": {
    "collapsed": false,
    "scrolled": true
   },
   "outputs": [
    {
     "name": "stdout",
     "output_type": "stream",
     "text": [
      "('question1', (404290, 20))\n",
      "('question2', (404290, 20))\n",
      "('label tensor', (404290,))\n"
     ]
    }
   ],
   "source": [
    "q1_data = pad_sequences(q1_word_sequences, maxlen=20)\n",
    "q2_data = pad_sequences(q2_word_sequences, maxlen=20)\n",
    "labels = np.array(is_dup, dtype=int)\n",
    "print('question1', q1_data.shape)\n",
    "print('question2', q2_data.shape)\n",
    "print('label tensor', labels.shape)"
   ]
  },
  {
   "cell_type": "markdown",
   "metadata": {},
   "source": [
    "### save preprocessed files"
   ]
  },
  {
   "cell_type": "code",
   "execution_count": 35,
   "metadata": {
    "collapsed": false
   },
   "outputs": [],
   "source": [
    "np.save('q1_train.npy', q1_data)\n",
    "np.save('q2_train.npy', q2_data)\n",
    "np.save('is_dup.npy', labels)\n",
    "np.save('embedding_mat.npy', embedding_mat)"
   ]
  }
 ],
 "metadata": {
  "kernelspec": {
   "display_name": "Python 2",
   "language": "python",
   "name": "python2"
  },
  "language_info": {
   "codemirror_mode": {
    "name": "ipython",
    "version": 2
   },
   "file_extension": ".py",
   "mimetype": "text/x-python",
   "name": "python",
   "nbconvert_exporter": "python",
   "pygments_lexer": "ipython2",
   "version": "2.7.13"
  }
 },
 "nbformat": 4,
 "nbformat_minor": 2
}
